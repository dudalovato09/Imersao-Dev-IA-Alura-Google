{
  "nbformat": 4,
  "nbformat_minor": 0,
  "metadata": {
    "colab": {
      "provenance": []
    },
    "kernelspec": {
      "name": "python3",
      "display_name": "Python 3"
    },
    "language_info": {
      "name": "python"
    }
  },
  "cells": [
    {
      "cell_type": "code",
      "execution_count": null,
      "metadata": {
        "colab": {
          "base_uri": "https://localhost:8080/",
          "height": 36
        },
        "id": "2dWdp5fLtr54",
        "outputId": "3cc0751f-ca1e-4598-f7c6-5d21f72e96fb"
      },
      "outputs": [
        {
          "output_type": "execute_result",
          "data": {
            "text/plain": [
              "'Eduarda'"
            ],
            "application/vnd.google.colaboratory.intrinsic+json": {
              "type": "string"
            }
          },
          "metadata": {},
          "execution_count": 1
        }
      ],
      "source": [
        "\"Eduarda\""
      ]
    },
    {
      "cell_type": "code",
      "source": [
        "saudacao = \"Olá, Mundo!\""
      ],
      "metadata": {
        "id": "ahXHmVk-wlgj"
      },
      "execution_count": null,
      "outputs": []
    },
    {
      "cell_type": "markdown",
      "source": [
        "# **Tipos de Dados**"
      ],
      "metadata": {
        "id": "gau44uYIx9NU"
      }
    },
    {
      "cell_type": "code",
      "source": [
        "#Tipo de dados\n",
        "\n",
        "#String\n",
        "resposta = \"Não sei\"\n",
        "resposta"
      ],
      "metadata": {
        "colab": {
          "base_uri": "https://localhost:8080/",
          "height": 36
        },
        "id": "Z6nJEkfPw6qD",
        "outputId": "e4ded96e-b5f2-4e35-fa5d-a0ef137cc7d6"
      },
      "execution_count": null,
      "outputs": [
        {
          "output_type": "execute_result",
          "data": {
            "text/plain": [
              "'Não sei'"
            ],
            "application/vnd.google.colaboratory.intrinsic+json": {
              "type": "string"
            }
          },
          "metadata": {},
          "execution_count": 6
        }
      ]
    },
    {
      "cell_type": "code",
      "source": [
        "#Int\n",
        "idade = 19\n",
        "idade"
      ],
      "metadata": {
        "colab": {
          "base_uri": "https://localhost:8080/"
        },
        "id": "NgTeJk3oxstk",
        "outputId": "4ed6a959-6e34-4b21-d1bf-e6a70b6b2fd1"
      },
      "execution_count": null,
      "outputs": [
        {
          "output_type": "execute_result",
          "data": {
            "text/plain": [
              "19"
            ]
          },
          "metadata": {},
          "execution_count": 7
        }
      ]
    },
    {
      "cell_type": "code",
      "source": [
        "#Float\n",
        "altura = 1.62\n",
        "altura"
      ],
      "metadata": {
        "colab": {
          "base_uri": "https://localhost:8080/"
        },
        "id": "Qqu_7GKjxzib",
        "outputId": "dc0959f3-0fb3-4b7e-aff3-1b013255cfcc"
      },
      "execution_count": null,
      "outputs": [
        {
          "output_type": "execute_result",
          "data": {
            "text/plain": [
              "1.62"
            ]
          },
          "metadata": {},
          "execution_count": 8
        }
      ]
    },
    {
      "cell_type": "code",
      "source": [
        "#Booleano\n",
        "contexto_encontrado = True\n",
        "contexto_encontrado"
      ],
      "metadata": {
        "colab": {
          "base_uri": "https://localhost:8080/"
        },
        "id": "86RmGH-MxzaD",
        "outputId": "e3451546-4e34-4328-d36e-79398674e1d6"
      },
      "execution_count": null,
      "outputs": [
        {
          "output_type": "execute_result",
          "data": {
            "text/plain": [
              "True"
            ]
          },
          "metadata": {},
          "execution_count": 9
        }
      ]
    },
    {
      "cell_type": "markdown",
      "source": [
        "# **Guardando e Organizando Dados**"
      ],
      "metadata": {
        "id": "dVoGJCVVxxgD"
      }
    },
    {
      "cell_type": "code",
      "source": [
        "# Lista: Coleções de Itens\n",
        "\n",
        "# Uma lista (`list`) é uma coleção ordenada de itens,\n",
        "# criada com colchetes `[]`. Ela pode guardar qualquer\n",
        "# tipo de dado e até mesmo ficar vazia.\"\n",
        "\n",
        "citacoes = [\"Artigo 1\", \"Página 3\"]\n",
        "citacoes_vazias = []"
      ],
      "metadata": {
        "id": "cqipZVORyIJD"
      },
      "execution_count": null,
      "outputs": []
    },
    {
      "cell_type": "code",
      "source": [
        "citacoes = ['frase 1', 'frase 2', 'frase 3']\n",
        "citacoes"
      ],
      "metadata": {
        "colab": {
          "base_uri": "https://localhost:8080/"
        },
        "id": "58SNBP9wzHD0",
        "outputId": "1ede4195-f9fa-4126-ec81-ea2d97351487"
      },
      "execution_count": null,
      "outputs": [
        {
          "output_type": "execute_result",
          "data": {
            "text/plain": [
              "['frase 1', 'frase 2', 'frase 3']"
            ]
          },
          "metadata": {},
          "execution_count": 12
        }
      ]
    },
    {
      "cell_type": "code",
      "source": [
        "valores = [42, 100, 1592]\n",
        "valores"
      ],
      "metadata": {
        "colab": {
          "base_uri": "https://localhost:8080/"
        },
        "id": "28e6l2aBzRyr",
        "outputId": "d5294b5e-c74b-4b8c-c2d1-dab32c2e2f15"
      },
      "execution_count": null,
      "outputs": [
        {
          "output_type": "execute_result",
          "data": {
            "text/plain": [
              "[42, 100, 1592]"
            ]
          },
          "metadata": {},
          "execution_count": 14
        }
      ]
    },
    {
      "cell_type": "code",
      "source": [
        "valores[0]"
      ],
      "metadata": {
        "colab": {
          "base_uri": "https://localhost:8080/"
        },
        "id": "llGeeg0TzXjU",
        "outputId": "d56d2cc7-c87f-4339-ec4f-d2e4480cc2e1"
      },
      "execution_count": null,
      "outputs": [
        {
          "output_type": "execute_result",
          "data": {
            "text/plain": [
              "42"
            ]
          },
          "metadata": {},
          "execution_count": 15
        }
      ]
    },
    {
      "cell_type": "code",
      "source": [
        "resultado_da_soma = valores[0] + valores[1]\n",
        "resultado_da_soma"
      ],
      "metadata": {
        "colab": {
          "base_uri": "https://localhost:8080/"
        },
        "id": "9YbUAR6VzY5L",
        "outputId": "1a482461-ec74-495e-cea9-5edc4340e9c0"
      },
      "execution_count": null,
      "outputs": [
        {
          "output_type": "execute_result",
          "data": {
            "text/plain": [
              "142"
            ]
          },
          "metadata": {},
          "execution_count": 16
        }
      ]
    },
    {
      "cell_type": "code",
      "source": [
        "# Dicionário: Informações com Etiquetas\n",
        "\n",
        "# Um dicionário (`dict`) guarda pares de `chave: valor`,\n",
        "# permitindo uma organização mais estruturada dos dados.\n",
        "# Eles são criados com chaves `{}`.\n",
        "\n",
        "resultado = {\n",
        "    \"answer\": \"Resposta encontrada.\",\n",
        "    \"contexto_encontrado\": True\n",
        "}"
      ],
      "metadata": {
        "id": "b1oPIav4yqyT"
      },
      "execution_count": null,
      "outputs": []
    },
    {
      "cell_type": "code",
      "source": [
        "bandas_favoritas = {\n",
        "    'banda_favorita': 'Lagum',\n",
        "    'banda_legalzinha': 'Eduarda Band'\n",
        "\n",
        "}\n",
        "bandas_favoritas"
      ],
      "metadata": {
        "colab": {
          "base_uri": "https://localhost:8080/"
        },
        "id": "mnm8qI9Ezpbz",
        "outputId": "2e8c1e46-6e47-45ab-ae88-9eb310c92a0a"
      },
      "execution_count": null,
      "outputs": [
        {
          "output_type": "execute_result",
          "data": {
            "text/plain": [
              "{'banda_favorita': 'Lagum', 'banda_legalzinha': 'Eduarda Band'}"
            ]
          },
          "metadata": {},
          "execution_count": 19
        }
      ]
    },
    {
      "cell_type": "code",
      "source": [
        "bandas_favoritas['banda_favorita']"
      ],
      "metadata": {
        "colab": {
          "base_uri": "https://localhost:8080/",
          "height": 36
        },
        "id": "kZKdfCSi0FDT",
        "outputId": "c04f0642-3a6a-4622-ac44-9b44978e8615"
      },
      "execution_count": null,
      "outputs": [
        {
          "output_type": "execute_result",
          "data": {
            "text/plain": [
              "'Lagum'"
            ],
            "application/vnd.google.colaboratory.intrinsic+json": {
              "type": "string"
            }
          },
          "metadata": {},
          "execution_count": 20
        }
      ]
    },
    {
      "cell_type": "code",
      "source": [
        "# Métodos: Superpoderes dos objetos\n",
        "\n",
        "# Em Python, quase tudo é um \"objeto\" que possui ações embutidas,\n",
        "# chamadas de métodos. Usamos um ponto (`.`) para acioná-los.\n",
        "# Por exemplo, `.strip()` remove espaços extras de uma string.\n",
        "\n",
        "texto_sujo = \"   olá   \"\n",
        "texto_limpo = texto_sujo.strip()\n",
        "texto_limpo\n",
        "# texto_limpo agora é \"olá\""
      ],
      "metadata": {
        "colab": {
          "base_uri": "https://localhost:8080/",
          "height": 36
        },
        "id": "zrteXwfxyzcT",
        "outputId": "28740ccc-8caf-430c-822b-4c26d78bace4"
      },
      "execution_count": null,
      "outputs": [
        {
          "output_type": "execute_result",
          "data": {
            "text/plain": [
              "'olá'"
            ],
            "application/vnd.google.colaboratory.intrinsic+json": {
              "type": "string"
            }
          },
          "metadata": {},
          "execution_count": 23
        }
      ]
    },
    {
      "cell_type": "markdown",
      "source": [
        "# **Estruturas Condicionais**"
      ],
      "metadata": {
        "id": "aja4C_wx4djs"
      }
    },
    {
      "cell_type": "code",
      "source": [
        "# Estrutura IF\n",
        "\n",
        "# A declaração `if` permite que seu código execute ações diferentes\n",
        "# com base em uma condição ser `True` ou `False`.\n",
        "\n",
        "idade = 19\n",
        "\n",
        "if idade >= 18:\n",
        "    print(\"Você é maior de idade.\")\n",
        "else:\n",
        "    print(\"Você é menor de idade.\")"
      ],
      "metadata": {
        "colab": {
          "base_uri": "https://localhost:8080/"
        },
        "id": "l8EbmBzU4h_c",
        "outputId": "af2fb4d4-cd6c-409c-dc21-3b4917eba276"
      },
      "execution_count": null,
      "outputs": [
        {
          "output_type": "stream",
          "name": "stdout",
          "text": [
            "Você é maior de idade.\n"
          ]
        }
      ]
    },
    {
      "cell_type": "code",
      "source": [
        "# Comparação Lógica\n",
        "\n",
        "# Usamos `==` para verificar se dois valores são iguais e `not`\n",
        "# para inverter um valor booleano (`True` vira `False` e vice-versa).\n",
        "\n",
        "# Se a lista estiver vazia (considerado False), 'not' inverte para True\n",
        "x = 10\n",
        "y = 5\n",
        "\n",
        "# Verifica se x é igual a y\n",
        "igual = (x == y)\n",
        "print(\"x é igual a y?\", igual)  # Saída: False\n",
        "\n",
        "# Inverte o valor booleano\n",
        "diferente = not (x == y)\n",
        "print(\"x é diferente de y?\", diferente)  # Saída: True"
      ],
      "metadata": {
        "colab": {
          "base_uri": "https://localhost:8080/"
        },
        "id": "ORQNQLsq4ldK",
        "outputId": "98feaedc-cf60-49f7-e7db-670c6fea99e9"
      },
      "execution_count": null,
      "outputs": [
        {
          "output_type": "stream",
          "name": "stdout",
          "text": [
            "x é igual a y? False\n",
            "x é diferente de y? True\n"
          ]
        }
      ]
    },
    {
      "cell_type": "markdown",
      "source": [
        "# **Blocos de Código Reutilizáveis**"
      ],
      "metadata": {
        "id": "d2-cbdkH5dR8"
      }
    },
    {
      "cell_type": "code",
      "source": [
        "# Funções: Código Organizado\n",
        "\n",
        "# Uma função é um bloco de código nomeado que realiza uma tarefa.\n",
        "# Você a \"define\" uma vez com `def` e pode \"chamá-la\" quantas vezes quiser.\n",
        "\n",
        "def saudar ():\n",
        "  print('Olá Mundo!')\n",
        "\n",
        "saudar ()\n"
      ],
      "metadata": {
        "colab": {
          "base_uri": "https://localhost:8080/"
        },
        "id": "ihBFX6zk5gp0",
        "outputId": "d1bcacd6-0fb2-48f8-a468-fff956c71344"
      },
      "execution_count": null,
      "outputs": [
        {
          "output_type": "stream",
          "name": "stdout",
          "text": [
            "Olá Mundo!\n"
          ]
        }
      ]
    },
    {
      "cell_type": "code",
      "source": [
        "def saudar ():\n",
        "  nome = input('Qual é o seu nome? ')\n",
        "  print(f'Olá, {nome}!')\n",
        "\n",
        "saudar ()"
      ],
      "metadata": {
        "colab": {
          "base_uri": "https://localhost:8080/"
        },
        "id": "TelhtHLP6h3q",
        "outputId": "4aa5c69a-7839-4943-a652-b4221fa60f2c"
      },
      "execution_count": null,
      "outputs": [
        {
          "output_type": "stream",
          "name": "stdout",
          "text": [
            "Qual é o seu nome? Duda\n",
            "Olá, Duda!\n"
          ]
        }
      ]
    },
    {
      "cell_type": "code",
      "source": [
        "# Definindo a função\n",
        "def saudar(nome):\n",
        "    return f\"Olá, {nome}!\"\n",
        "\n",
        "mensagem_1 = saudar('Eduarda')\n",
        "mensagem_2 = saudar('José')\n",
        "mensagem_3 = saudar('Filipe')\n",
        "\n",
        "print(mensagem_1)\n",
        "print(mensagem_2)\n",
        "print(mensagem_3)"
      ],
      "metadata": {
        "colab": {
          "base_uri": "https://localhost:8080/"
        },
        "id": "K8uGhIye5za7",
        "outputId": "4e817c3a-c19c-4b8d-d56f-84687212a75e"
      },
      "execution_count": null,
      "outputs": [
        {
          "output_type": "stream",
          "name": "stdout",
          "text": [
            "Olá, Eduarda!\n",
            "Olá, José!\n",
            "Olá, Filipe!\n"
          ]
        }
      ]
    },
    {
      "cell_type": "code",
      "source": [
        "# Chamando a função\n",
        "mensagem = saudar(\"Aluno\")\n",
        "print(mensagem) # Resultado: Olá, Aluno!"
      ],
      "metadata": {
        "colab": {
          "base_uri": "https://localhost:8080/"
        },
        "id": "yIZ9jX-p6-qU",
        "outputId": "a4f5aafd-be19-4dcc-a016-133c4e3cc832"
      },
      "execution_count": null,
      "outputs": [
        {
          "output_type": "stream",
          "name": "stdout",
          "text": [
            "Olá, Aluno!\n"
          ]
        }
      ]
    },
    {
      "cell_type": "code",
      "source": [
        "# Anatomia de uma Função\n",
        "\n",
        "# As funções têm partes importantes: a palavra-chave `def`, um nome,\n",
        "# parênteses para os parâmetros (entradas) e um `return` opcional\n",
        "# para o resultado (saída)."
      ],
      "metadata": {
        "id": "ni9ShNZj59Fi"
      },
      "execution_count": null,
      "outputs": []
    },
    {
      "cell_type": "code",
      "source": [
        "# Type Hints: Dicas de Rota\n",
        "\n",
        "# Anotações como `: str` e `-> Dict` são \"dicas de tipo\".\n",
        "# Elas não alteram o código, mas ajudam os humanos a entenderem\n",
        "# que tipo de dado uma função espera receber e que tipo ela vai retornar.\n",
        "\n",
        "def saudar(nome: str) -> str:\n",
        "    # Esta função espera uma string e retorna uma string\n",
        "    return f\"Olá, {nome}!\"\n",
        "\n",
        "saudar('Eduarda')"
      ],
      "metadata": {
        "colab": {
          "base_uri": "https://localhost:8080/",
          "height": 36
        },
        "id": "yoTIISdx6JzL",
        "outputId": "2fc2ed55-f7cf-4c3b-eea7-a9164a9db14a"
      },
      "execution_count": null,
      "outputs": [
        {
          "output_type": "execute_result",
          "data": {
            "text/plain": [
              "'Olá, Eduarda!'"
            ],
            "application/vnd.google.colaboratory.intrinsic+json": {
              "type": "string"
            }
          },
          "metadata": {},
          "execution_count": 43
        }
      ]
    },
    {
      "cell_type": "code",
      "source": [
        "# Biblioteca de mametática que calcula a raiz quadrada\n",
        "\n",
        "from math import sqrt\n",
        "sqrt(16)"
      ],
      "metadata": {
        "colab": {
          "base_uri": "https://localhost:8080/"
        },
        "id": "EmOQJYLG8K4k",
        "outputId": "f142b67a-ff0c-4e36-f1df-c898a1794869"
      },
      "execution_count": null,
      "outputs": [
        {
          "output_type": "execute_result",
          "data": {
            "text/plain": [
              "4.0"
            ]
          },
          "metadata": {},
          "execution_count": 44
        }
      ]
    },
    {
      "cell_type": "code",
      "source": [
        "# Código Final\n",
        "\n",
        "# from typing import Dict\n",
        "# def perguntar(pergunta: str) -> Dict:\n",
        "# ____docs_relacionados = retriever.invoke(pergunta)\n",
        "# ____if not docs_relacionados:\n",
        "# ________return {\"answer\": \"Não sei.\"}\n",
        "# ____return {\"answer\": docs_relacionados}\n",
        "\n",
        "# resposta = perguntar(\"Qual é a política de privacidade?\")\n",
        "# print(\"Resposta ->\", resposta[\"answer\"])"
      ],
      "metadata": {
        "id": "uEm_I_LA8vBM"
      },
      "execution_count": null,
      "outputs": []
    }
  ]
}